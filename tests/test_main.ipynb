{
 "cells": [
  {
   "cell_type": "markdown",
   "id": "205132d4-97c3-4a9d-8b63-785b51caf38e",
   "metadata": {},
   "source": [
    "# Módulo Principal"
   ]
  },
  {
   "cell_type": "code",
   "execution_count": 1,
   "id": "87007acd-fd7d-4701-998c-c9497a93255a",
   "metadata": {
    "tags": []
   },
   "outputs": [],
   "source": [
    "# Importação dos módulos\n",
    "\n",
    "import test_es\n",
    "import test_proc"
   ]
  },
  {
   "cell_type": "code",
   "execution_count": 21,
   "id": "1c355cc3-8f49-4a74-b8ca-afc95325bad7",
   "metadata": {
    "tags": []
   },
   "outputs": [
    {
     "name": "stdin",
     "output_type": "stream",
     "text": [
      "Digite o número 1 que deseja operar: 5\n",
      "Digite o número 2 que deseja operar: 4\n",
      "Digite a operação que deseja realizar. \n",
      "Pressione:\n",
      "+ para adição;\n",
      "- para subtração;\n",
      "* para multiplicação;\n",
      "/ para divisão -\n"
     ]
    }
   ],
   "source": [
    "dados = test_es.leitora()"
   ]
  },
  {
   "cell_type": "code",
   "execution_count": 4,
   "id": "b91bf5ab-1b9d-4b1b-ac09-0980d598b364",
   "metadata": {
    "tags": []
   },
   "outputs": [
    {
     "data": {
      "text/plain": [
       "[[2.0, 3.0], '*']"
      ]
     },
     "execution_count": 4,
     "metadata": {},
     "output_type": "execute_result"
    }
   ],
   "source": [
    "dados"
   ]
  },
  {
   "cell_type": "code",
   "execution_count": 23,
   "id": "3ace52bd-c5d9-4c22-9181-daf082772a2e",
   "metadata": {
    "tags": []
   },
   "outputs": [],
   "source": [
    "if dados[1] == \"+\":\n",
    "    resultado = test_proc.somadora(dados[0][0], dados[0][1])\n",
    "elif dados[1] == \"-\":\n",
    "    resultado = test_proc.diminuidora(dados[0][0], dados[0][1])\n",
    "elif dados[1] == \"*\":\n",
    "    resultado = test_proc.mult(dados[0][0], dados[0][1])\n",
    "else: \n",
    "    resultado = test_proc.div(dados[0][0], dados[0][1])     \n",
    "    "
   ]
  },
  {
   "cell_type": "code",
   "execution_count": null,
   "id": "86eae486-e221-4a6c-a08d-2c213e51d28d",
   "metadata": {},
   "outputs": [],
   "source": [
    "def escolhedora(dados: list) -> float:\n",
    "    \"\"\"Esta função escolhe a operação adequada de acordo com o usuário.\"\"\"\n",
    "    if dados[1] == \"+\":\n",
    "        resultado = test_proc.somadora(dados[0][0], dados[0][1])\n",
    "    elif dados[1] == \"-\":\n",
    "        resultado = test_proc.diminuidora(dados[0][0], dados[0][1])\n",
    "    elif dados[1] == \"*\":\n",
    "        resultado = test_proc.mult(dados[0][0], dados[0][1])\n",
    "    else: \n",
    "        resultado = test_proc.div(dados[0][0], dados[0][1])    \n",
    "    return resultado\n"
   ]
  }
 ],
 "metadata": {
  "kernelspec": {
   "display_name": "Python 3 (ipykernel)",
   "language": "python",
   "name": "python3"
  },
  "language_info": {
   "codemirror_mode": {
    "name": "ipython",
    "version": 3
   },
   "file_extension": ".py",
   "mimetype": "text/x-python",
   "name": "python",
   "nbconvert_exporter": "python",
   "pygments_lexer": "ipython3",
   "version": "3.11.5"
  }
 },
 "nbformat": 4,
 "nbformat_minor": 5
}
