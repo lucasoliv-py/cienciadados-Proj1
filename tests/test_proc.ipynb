{
 "cells": [
  {
   "cell_type": "markdown",
   "id": "7fea5d5e-04e4-4908-b379-8d4b27c2b1ed",
   "metadata": {},
   "source": [
    "# Módulo de Processamento"
   ]
  },
  {
   "cell_type": "markdown",
   "id": "f5db8044-6379-4177-a4ca-3ade555bec5b",
   "metadata": {
    "tags": []
   },
   "source": [
    "## Requisito 1 - Desenvolvimento da Função de Soma"
   ]
  },
  {
   "cell_type": "code",
   "execution_count": 11,
   "id": "5c76554a-39c2-46e0-a0ae-8daab827fa7c",
   "metadata": {
    "tags": []
   },
   "outputs": [],
   "source": [
    "def somadora (x,y):\n",
    "    return (x+y)"
   ]
  },
  {
   "cell_type": "code",
   "execution_count": 27,
   "id": "40e75f03-fe0e-4de7-9ad2-c58972a81c95",
   "metadata": {
    "tags": []
   },
   "outputs": [
    {
     "data": {
      "text/plain": [
       "12"
      ]
     },
     "execution_count": 27,
     "metadata": {},
     "output_type": "execute_result"
    }
   ],
   "source": [
    "def somadora(numero1: float, numero2: float) -> float:\n",
    "    \"\"\"Esta função pega dois números reais e retorna a soma deles\"\"\"\n",
    "    return numero1 + numero2\n",
    "\n",
    "somadora(7,5)"
   ]
  },
  {
   "cell_type": "code",
   "execution_count": 26,
   "id": "8f0447e2-7683-4015-be15-a589b789b085",
   "metadata": {
    "tags": []
   },
   "outputs": [
    {
     "data": {
      "text/plain": [
       "2"
      ]
     },
     "execution_count": 26,
     "metadata": {},
     "output_type": "execute_result"
    }
   ],
   "source": [
    "def diminuidora(numero1: float, numero2: float) -> float:\n",
    "    \"\"\"Esta função pega dois números reais e retorna a subtração deles\"\"\"\n",
    "    return numero1 - numero2\n",
    "\n",
    "diminuidora(7,5)"
   ]
  },
  {
   "cell_type": "code",
   "execution_count": 25,
   "id": "9f3be9a0-d4bd-4eeb-9657-80838ff34e0a",
   "metadata": {
    "tags": []
   },
   "outputs": [
    {
     "data": {
      "text/plain": [
       "35"
      ]
     },
     "execution_count": 25,
     "metadata": {},
     "output_type": "execute_result"
    }
   ],
   "source": [
    "def mult(numero1: float, numero2: float) -> float:\n",
    "    \"\"\"Esta função pega dois números reais e retorna a multiplicação deles\"\"\"\n",
    "    return numero1 * numero2\n",
    "\n",
    "mult (7,5)"
   ]
  },
  {
   "cell_type": "code",
   "execution_count": 38,
   "id": "9a14330c-bf07-4d99-b04d-045936f508b7",
   "metadata": {
    "tags": []
   },
   "outputs": [
    {
     "data": {
      "text/plain": [
       "'Infinito'"
      ]
     },
     "execution_count": 38,
     "metadata": {},
     "output_type": "execute_result"
    }
   ],
   "source": [
    "def div(numero1: float, numero2: float) -> float:\n",
    "    \"\"\"Esta função pega dois números reais e retorna a divisão deles\"\"\"\n",
    "    if numero2 == 0:\n",
    "        resultado = \"Infinito\"\n",
    "    else:\n",
    "            resultado = (numero1 // numero2)\n",
    "    return resultado\n",
    "\n",
    "div (0,0)"
   ]
  },
  {
   "cell_type": "code",
   "execution_count": null,
   "id": "12d113ab-eb79-4279-bd9f-248bc3f7e5f3",
   "metadata": {},
   "outputs": [],
   "source": []
  }
 ],
 "metadata": {
  "kernelspec": {
   "display_name": "Python 3 (ipykernel)",
   "language": "python",
   "name": "python3"
  },
  "language_info": {
   "codemirror_mode": {
    "name": "ipython",
    "version": 3
   },
   "file_extension": ".py",
   "mimetype": "text/x-python",
   "name": "python",
   "nbconvert_exporter": "python",
   "pygments_lexer": "ipython3",
   "version": "3.11.5"
  }
 },
 "nbformat": 4,
 "nbformat_minor": 5
}
