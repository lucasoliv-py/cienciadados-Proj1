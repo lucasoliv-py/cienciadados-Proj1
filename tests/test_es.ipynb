{
 "cells": [
  {
   "cell_type": "markdown",
   "id": "7ea10c2d-6a0a-4333-b267-3921cb6717b1",
   "metadata": {},
   "source": [
    "# Módulo de Entrada e Saída de Dados"
   ]
  },
  {
   "cell_type": "markdown",
   "id": "a0cb3b75-eeea-49ba-b187-ee6d8e2ec5f3",
   "metadata": {},
   "source": [
    "## Função de Entrada de Dados"
   ]
  },
  {
   "cell_type": "code",
   "execution_count": 4,
   "id": "a23a367b-20d0-4d64-a206-f89172560d15",
   "metadata": {
    "tags": []
   },
   "outputs": [
    {
     "name": "stdin",
     "output_type": "stream",
     "text": [
      "Digite o primeiro número que deseja operar: 4\n"
     ]
    }
   ],
   "source": [
    "# Entrada de dados\n",
    "\n",
    "numero1 = input(\"Digite o primeiro número que deseja operar:\")"
   ]
  },
  {
   "cell_type": "code",
   "execution_count": 5,
   "id": "f13f5130-da48-4789-9636-f45d9559eac2",
   "metadata": {
    "tags": []
   },
   "outputs": [
    {
     "data": {
      "text/plain": [
       "'4'"
      ]
     },
     "execution_count": 5,
     "metadata": {},
     "output_type": "execute_result"
    }
   ],
   "source": [
    "numero1"
   ]
  },
  {
   "cell_type": "code",
   "execution_count": 9,
   "id": "4228217c-9f6f-4726-93dc-87902fa4f39a",
   "metadata": {
    "tags": []
   },
   "outputs": [
    {
     "name": "stdin",
     "output_type": "stream",
     "text": [
      "Digite o primeiro número que deseja operar: 8\n"
     ]
    }
   ],
   "source": [
    "# Transformei a entrada de dados em um número tipo Float\n",
    "\n",
    "numero1 = float(input(\"Digite o primeiro número que deseja operar:\"))"
   ]
  },
  {
   "cell_type": "code",
   "execution_count": 11,
   "id": "5b5c76f9-105c-4441-8d62-9152fdd5dccb",
   "metadata": {
    "tags": []
   },
   "outputs": [
    {
     "data": {
      "text/plain": [
       "13.0"
      ]
     },
     "execution_count": 11,
     "metadata": {},
     "output_type": "execute_result"
    }
   ],
   "source": [
    "numero1+5"
   ]
  },
  {
   "cell_type": "code",
   "execution_count": 39,
   "id": "5732bd6b-d8f0-4b87-b139-4e07544e7a37",
   "metadata": {
    "tags": []
   },
   "outputs": [],
   "source": [
    "# A função que lê dois números\n",
    "\n",
    "def leitora_numeros() -> list:\n",
    "    \"\"\" Esta função pega dois números digitados pelo usuário\"\"\"\n",
    "    i = 0\n",
    "    numeros = []\n",
    "    while i < 2:\n",
    "        numeros.append(float(input(f\"Digite o número {i+1} que deseja operar:\")))\n",
    "        i+=1\n",
    "    return numeros\n"
   ]
  },
  {
   "cell_type": "code",
   "execution_count": 31,
   "id": "664b4cc3-0abb-46e0-848f-ce15a47bf8c3",
   "metadata": {
    "tags": []
   },
   "outputs": [
    {
     "name": "stdin",
     "output_type": "stream",
     "text": [
      "Digite a operação que deseja realizar. \n",
      "Pressione:\n",
      "+ para adição;\n",
      "- para subtração;\n",
      "* para multiplicação;\n",
      "/ para divisão +\n"
     ]
    }
   ],
   "source": [
    "# A função que lê a operação que deve ser executada\n",
    "\n",
    "operacao = input(\"\"\"Digite a operação que deseja realizar. \n",
    "Pressione:\n",
    "+ para adição;\n",
    "- para subtração;\n",
    "* para multiplicação;\n",
    "/ para divisão\"\"\")"
   ]
  },
  {
   "cell_type": "code",
   "execution_count": 40,
   "id": "f298d9fc-e96a-4de1-9eb2-896e5ac420db",
   "metadata": {
    "tags": []
   },
   "outputs": [],
   "source": [
    "def leitora_operacao() -> str:\n",
    "    operacao = input(\"\"\"Digite a operação que deseja realizar. \n",
    "Pressione:\n",
    "+ para adição;\n",
    "- para subtração;\n",
    "* para multiplicação;\n",
    "/ para divisão\"\"\")\n",
    "    return operacao\n"
   ]
  },
  {
   "cell_type": "code",
   "execution_count": 41,
   "id": "9710fc16-a697-44cf-b0bb-d25e674b05fe",
   "metadata": {
    "tags": []
   },
   "outputs": [
    {
     "name": "stdin",
     "output_type": "stream",
     "text": [
      "Digite o número 1 que deseja operar: 5\n",
      "Digite o número 2 que deseja operar: 10\n",
      "Digite a operação que deseja realizar. \n",
      "Pressione:\n",
      "+ para adição;\n",
      "- para subtração;\n",
      "* para multiplicação;\n",
      "/ para divisão *\n"
     ]
    },
    {
     "data": {
      "text/plain": [
       "[[5.0, 10.0], '*']"
      ]
     },
     "execution_count": 41,
     "metadata": {},
     "output_type": "execute_result"
    }
   ],
   "source": [
    "def leitora() -> list:\n",
    "    lista_numeros = leitora_numeros()\n",
    "    operacao = leitora_operacao()\n",
    "    return [lista_numeros, operacao]\n",
    "\n",
    "leitora()"
   ]
  },
  {
   "cell_type": "markdown",
   "id": "aea52da0-f59a-469a-965a-2f6c134b0a37",
   "metadata": {},
   "source": [
    "## Função de Saída de Dados"
   ]
  },
  {
   "cell_type": "code",
   "execution_count": 42,
   "id": "24a0693b-cebc-438c-b7fa-86aeb94cee7c",
   "metadata": {
    "tags": []
   },
   "outputs": [
    {
     "name": "stdout",
     "output_type": "stream",
     "text": [
      "2\n"
     ]
    }
   ],
   "source": [
    "resultado = 2\n",
    "\n",
    "print(resultado)"
   ]
  },
  {
   "cell_type": "code",
   "execution_count": 44,
   "id": "365b08d7-6b96-41ff-a02b-1737f7c384e7",
   "metadata": {
    "tags": []
   },
   "outputs": [
    {
     "name": "stdout",
     "output_type": "stream",
     "text": [
      "O resultado da minha operação é igual a 2.\n"
     ]
    }
   ],
   "source": [
    "print(f\"O resultado da minha operação é igual a {resultado}.\")"
   ]
  },
  {
   "cell_type": "code",
   "execution_count": 46,
   "id": "43a6ab91-c878-4f79-a6fc-48ab439b99c7",
   "metadata": {
    "tags": []
   },
   "outputs": [
    {
     "name": "stdout",
     "output_type": "stream",
     "text": [
      "O resultado da minha operação é igual a 9.\n"
     ]
    }
   ],
   "source": [
    "def escritora(resultado):\n",
    "    print(f\"O resultado da minha operação é igual a {resultado}.\")\n",
    "    \n",
    "resultado = 9\n",
    "escritora(resultado)"
   ]
  },
  {
   "cell_type": "code",
   "execution_count": 47,
   "id": "4bb8391a-14b4-49ce-9cfe-aa3ca1fcaaf5",
   "metadata": {
    "tags": []
   },
   "outputs": [],
   "source": [
    "def escritora(resultado: float) -> None:\n",
    "    \"\"\"Esta função coloca o resultado na tela.\"\"\"\n",
    "    print(f\"O resultado da minha operação é igual a {resultado}.\")"
   ]
  },
  {
   "cell_type": "code",
   "execution_count": null,
   "id": "35555621-ac9c-4976-bd44-ffcf44a64db1",
   "metadata": {},
   "outputs": [],
   "source": []
  }
 ],
 "metadata": {
  "kernelspec": {
   "display_name": "Python 3 (ipykernel)",
   "language": "python",
   "name": "python3"
  },
  "language_info": {
   "codemirror_mode": {
    "name": "ipython",
    "version": 3
   },
   "file_extension": ".py",
   "mimetype": "text/x-python",
   "name": "python",
   "nbconvert_exporter": "python",
   "pygments_lexer": "ipython3",
   "version": "3.11.5"
  }
 },
 "nbformat": 4,
 "nbformat_minor": 5
}
